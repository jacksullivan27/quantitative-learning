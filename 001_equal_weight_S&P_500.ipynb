{
 "cells": [
  {
   "cell_type": "markdown",
   "metadata": {},
   "source": [
    "# Equal-Weight S&P 500 Index Fund\n",
    "\n",
    "## Introduction & Library Imports\n",
    "\n",
    "The S&P 500 is the world's most popular stock market index. The largest fund that is benchmarked to this index is the SPDR® S&P 500® ETF Trust. It has more than US$250 billion of assets under management.\n",
    "\n",
    "The goal of this section of the course is to create a Python script that will accept the value of your portfolio and tell you how many shares of each S&P 500 constituent you should purchase to get an equal-weight version of the index fund.\n",
    "\n",
    "## Library Imports\n",
    "\n",
    "The first thing we need to do is import the open-source software libraries that we'll be using in this tutorial."
   ]
  },
  {
   "cell_type": "code",
   "execution_count": 47,
   "metadata": {},
   "outputs": [],
   "source": [
    "import numpy as np\n",
    "import pandas as pd\n",
    "import math\n",
    "import xlsxwriter\n",
    "import requests\n",
    "import yfinance as yf\n",
    "from concurrent.futures import ThreadPoolExecutor, as_completed"
   ]
  },
  {
   "cell_type": "markdown",
   "metadata": {},
   "source": [
    "## Importing Our List of Stocks\n",
    "\n",
    "The next thing we need to do is import the constituents of the S&P 500.\n",
    "\n",
    "These constituents change over time, so in an ideal world you would connect directly to the index provider (Standard & Poor's) and pull their real-time constituents on a regular basis.\n",
    "\n",
    "Paying for access to the index provider's API is outside of the scope of this course. \n",
    "\n",
    "There's a static version of the S&P 500 constituents available here. [Click this link to download them now](https://drive.google.com/file/d/1ZJSpbY69DVckVZlO9cC6KkgfSufybcHN/view?usp=sharing). Move this file into the `starter-files` folder so it can be accessed by other files in that directory.\n",
    "\n",
    "Now it's time to import these stocks to our Jupyter Notebook file."
   ]
  },
  {
   "cell_type": "code",
   "execution_count": 34,
   "metadata": {},
   "outputs": [
    {
     "data": {
      "text/html": [
       "<div>\n",
       "<style scoped>\n",
       "    .dataframe tbody tr th:only-of-type {\n",
       "        vertical-align: middle;\n",
       "    }\n",
       "\n",
       "    .dataframe tbody tr th {\n",
       "        vertical-align: top;\n",
       "    }\n",
       "\n",
       "    .dataframe thead th {\n",
       "        text-align: right;\n",
       "    }\n",
       "</style>\n",
       "<table border=\"1\" class=\"dataframe\">\n",
       "  <thead>\n",
       "    <tr style=\"text-align: right;\">\n",
       "      <th></th>\n",
       "      <th>Ticker</th>\n",
       "    </tr>\n",
       "  </thead>\n",
       "  <tbody>\n",
       "    <tr>\n",
       "      <th>0</th>\n",
       "      <td>A</td>\n",
       "    </tr>\n",
       "    <tr>\n",
       "      <th>1</th>\n",
       "      <td>AAL</td>\n",
       "    </tr>\n",
       "    <tr>\n",
       "      <th>2</th>\n",
       "      <td>AAP</td>\n",
       "    </tr>\n",
       "    <tr>\n",
       "      <th>3</th>\n",
       "      <td>AAPL</td>\n",
       "    </tr>\n",
       "    <tr>\n",
       "      <th>4</th>\n",
       "      <td>ABBV</td>\n",
       "    </tr>\n",
       "    <tr>\n",
       "      <th>...</th>\n",
       "      <td>...</td>\n",
       "    </tr>\n",
       "    <tr>\n",
       "      <th>500</th>\n",
       "      <td>YUM</td>\n",
       "    </tr>\n",
       "    <tr>\n",
       "      <th>501</th>\n",
       "      <td>ZBH</td>\n",
       "    </tr>\n",
       "    <tr>\n",
       "      <th>502</th>\n",
       "      <td>ZBRA</td>\n",
       "    </tr>\n",
       "    <tr>\n",
       "      <th>503</th>\n",
       "      <td>ZION</td>\n",
       "    </tr>\n",
       "    <tr>\n",
       "      <th>504</th>\n",
       "      <td>ZTS</td>\n",
       "    </tr>\n",
       "  </tbody>\n",
       "</table>\n",
       "<p>505 rows × 1 columns</p>\n",
       "</div>"
      ],
      "text/plain": [
       "    Ticker\n",
       "0        A\n",
       "1      AAL\n",
       "2      AAP\n",
       "3     AAPL\n",
       "4     ABBV\n",
       "..     ...\n",
       "500    YUM\n",
       "501    ZBH\n",
       "502   ZBRA\n",
       "503   ZION\n",
       "504    ZTS\n",
       "\n",
       "[505 rows x 1 columns]"
      ]
     },
     "execution_count": 34,
     "metadata": {},
     "output_type": "execute_result"
    }
   ],
   "source": [
    "stocks = pd.read_csv('sp_500_stocks.csv')\n",
    "stocks"
   ]
  },
  {
   "cell_type": "markdown",
   "metadata": {},
   "source": [
    "## Acquiring an API Token\n",
    "\n",
    "Now it's time to import our IEX Cloud API token. This is the data provider that we will be using throughout this course.\n",
    "\n",
    "API tokens (and other sensitive information) should be stored in a `secrets.py` file that doesn't get pushed to your local Git repository. We'll be using a sandbox API token in this course, which means that the data we'll use is randomly-generated and (more importantly) has no cost associated with it.\n",
    "\n",
    "[Click here](http://nickmccullum.com/algorithmic-trading-python/secrets.py) to download your `secrets.py` file. Move the file into the same directory as this Jupyter Notebook before proceeding."
   ]
  },
  {
   "cell_type": "code",
   "execution_count": 35,
   "metadata": {},
   "outputs": [],
   "source": [
    "from my_secrets import IEX_CLOUD_API_TOKEN"
   ]
  },
  {
   "cell_type": "markdown",
   "metadata": {},
   "source": [
    "## Making Our First API Call\n",
    "\n",
    "Now it's time to structure our API calls to IEX cloud. \n",
    "\n",
    "We need the following information from the API:\n",
    "\n",
    "* Market capitalization for each stock\n",
    "* Price of each stock\n",
    "\n",
    "METHOD IS DEPRECIATED, USE YFINANCE INSTEAD"
   ]
  },
  {
   "cell_type": "code",
   "execution_count": 36,
   "metadata": {},
   "outputs": [],
   "source": [
    "# symbol = 'AAPL'\n",
    "# api_url = f'https://sandbox.iexapis.com/stable/stock/{symbol}/quote/?token={IEX_CLOUD_API_TOKEN}'\n",
    "# print(\"status code: \" + str(requests.get(api_url).status_code))\n",
    "# data = requests.get(api_url).json()\n",
    "# print(data)"
   ]
  },
  {
   "cell_type": "code",
   "execution_count": 37,
   "metadata": {},
   "outputs": [
    {
     "name": "stderr",
     "output_type": "stream",
     "text": [
      "[*********************100%%**********************]  4 of 4 completed\n"
     ]
    },
    {
     "data": {
      "text/plain": [
       "['__class__',\n",
       " '__delattr__',\n",
       " '__dict__',\n",
       " '__dir__',\n",
       " '__doc__',\n",
       " '__eq__',\n",
       " '__format__',\n",
       " '__ge__',\n",
       " '__getattribute__',\n",
       " '__getstate__',\n",
       " '__gt__',\n",
       " '__hash__',\n",
       " '__init__',\n",
       " '__init_subclass__',\n",
       " '__le__',\n",
       " '__lt__',\n",
       " '__module__',\n",
       " '__ne__',\n",
       " '__new__',\n",
       " '__reduce__',\n",
       " '__reduce_ex__',\n",
       " '__repr__',\n",
       " '__setattr__',\n",
       " '__sizeof__',\n",
       " '__str__',\n",
       " '__subclasshook__',\n",
       " '__weakref__',\n",
       " '_analysis',\n",
       " '_data',\n",
       " '_download_options',\n",
       " '_earnings',\n",
       " '_earnings_dates',\n",
       " '_expirations',\n",
       " '_fast_info',\n",
       " '_fetch_ticker_tz',\n",
       " '_financials',\n",
       " '_fundamentals',\n",
       " '_get_ticker_tz',\n",
       " '_holders',\n",
       " '_isin',\n",
       " '_lazy_load_price_history',\n",
       " '_news',\n",
       " '_options2df',\n",
       " '_price_history',\n",
       " '_quote',\n",
       " '_shares',\n",
       " '_tz',\n",
       " '_underlying',\n",
       " 'actions',\n",
       " 'analyst_price_target',\n",
       " 'balance_sheet',\n",
       " 'balancesheet',\n",
       " 'basic_info',\n",
       " 'calendar',\n",
       " 'capital_gains',\n",
       " 'cash_flow',\n",
       " 'cashflow',\n",
       " 'dividends',\n",
       " 'earnings',\n",
       " 'earnings_dates',\n",
       " 'earnings_forecasts',\n",
       " 'earnings_trend',\n",
       " 'fast_info',\n",
       " 'financials',\n",
       " 'get_actions',\n",
       " 'get_analyst_price_target',\n",
       " 'get_balance_sheet',\n",
       " 'get_balancesheet',\n",
       " 'get_calendar',\n",
       " 'get_capital_gains',\n",
       " 'get_cash_flow',\n",
       " 'get_cashflow',\n",
       " 'get_dividends',\n",
       " 'get_earnings',\n",
       " 'get_earnings_dates',\n",
       " 'get_earnings_forecast',\n",
       " 'get_earnings_trend',\n",
       " 'get_fast_info',\n",
       " 'get_financials',\n",
       " 'get_history_metadata',\n",
       " 'get_income_stmt',\n",
       " 'get_incomestmt',\n",
       " 'get_info',\n",
       " 'get_insider_purchases',\n",
       " 'get_insider_roster_holders',\n",
       " 'get_insider_transactions',\n",
       " 'get_institutional_holders',\n",
       " 'get_isin',\n",
       " 'get_major_holders',\n",
       " 'get_mutualfund_holders',\n",
       " 'get_news',\n",
       " 'get_recommendations',\n",
       " 'get_recommendations_summary',\n",
       " 'get_rev_forecast',\n",
       " 'get_shares',\n",
       " 'get_shares_full',\n",
       " 'get_splits',\n",
       " 'get_sustainability',\n",
       " 'get_trend_details',\n",
       " 'get_upgrades_downgrades',\n",
       " 'history',\n",
       " 'history_metadata',\n",
       " 'income_stmt',\n",
       " 'incomestmt',\n",
       " 'info',\n",
       " 'insider_purchases',\n",
       " 'insider_roster_holders',\n",
       " 'insider_transactions',\n",
       " 'institutional_holders',\n",
       " 'isin',\n",
       " 'major_holders',\n",
       " 'mutualfund_holders',\n",
       " 'news',\n",
       " 'option_chain',\n",
       " 'options',\n",
       " 'proxy',\n",
       " 'quarterly_balance_sheet',\n",
       " 'quarterly_balancesheet',\n",
       " 'quarterly_cash_flow',\n",
       " 'quarterly_cashflow',\n",
       " 'quarterly_earnings',\n",
       " 'quarterly_financials',\n",
       " 'quarterly_income_stmt',\n",
       " 'quarterly_incomestmt',\n",
       " 'recommendations',\n",
       " 'recommendations_summary',\n",
       " 'revenue_forecasts',\n",
       " 'session',\n",
       " 'shares',\n",
       " 'splits',\n",
       " 'sustainability',\n",
       " 'ticker',\n",
       " 'trend_details',\n",
       " 'upgrades_downgrades']"
      ]
     },
     "execution_count": 37,
     "metadata": {},
     "output_type": "execute_result"
    }
   ],
   "source": [
    "# tickers = ['AAPL', 'MSFT', 'AMZN', 'GOOGL']\n",
    "\n",
    "# Fetching data\n",
    "# data = yf.download(tickers, period='1d')\n",
    "\n",
    "# Displaying the closing prices and market cap\n",
    "# for ticker in tickers:\n",
    "#     stock = yf.Ticker(ticker)\n",
    "#     close_price = data['Close'][ticker].iloc[0]\n",
    "#     market_cap = stock.info['marketCap']\n",
    "#     print(f\"{ticker} - Close Price: {close_price}, Market Cap: {market_cap}\")\n",
    "\n",
    "\n",
    "data = yf.download(tickers, period='1d')\n",
    "stock = yf.Ticker('AAPL')\n",
    "stock\n",
    "dir(stock)"
   ]
  },
  {
   "cell_type": "markdown",
   "metadata": {},
   "source": [
    "## Parsing Our API Call\n",
    "\n",
    "The API call that we executed in the last code block contains all of the information required to build our equal-weight S&P 500 strategy. \n",
    "\n",
    "With that said, the data isn't in a proper format yet. We need to parse it first."
   ]
  },
  {
   "cell_type": "code",
   "execution_count": 38,
   "metadata": {},
   "outputs": [
    {
     "name": "stdout",
     "output_type": "stream",
     "text": [
      "Close Price: $ 226.33999633789062\n",
      "Market Cap:  3470.720237568 Billion\n"
     ]
    }
   ],
   "source": [
    "price = stock.history(period='1d')['Close'].iloc[0]\n",
    "print('Close Price: $', price)\n",
    "market_cap = stock.info['marketCap']\n",
    "print('Market Cap: ', market_cap/10**9, 'Billion')"
   ]
  },
  {
   "cell_type": "markdown",
   "metadata": {},
   "source": [
    "## Adding Our Stocks Data to a Pandas DataFrame\n",
    "\n",
    "The next thing we need to do is add our stock's price and market capitalization to a pandas DataFrame. Think of a DataFrame like the Python version of a spreadsheet. It stores tabular data."
   ]
  },
  {
   "cell_type": "code",
   "execution_count": 39,
   "metadata": {},
   "outputs": [
    {
     "data": {
      "text/html": [
       "<div>\n",
       "<style scoped>\n",
       "    .dataframe tbody tr th:only-of-type {\n",
       "        vertical-align: middle;\n",
       "    }\n",
       "\n",
       "    .dataframe tbody tr th {\n",
       "        vertical-align: top;\n",
       "    }\n",
       "\n",
       "    .dataframe thead th {\n",
       "        text-align: right;\n",
       "    }\n",
       "</style>\n",
       "<table border=\"1\" class=\"dataframe\">\n",
       "  <thead>\n",
       "    <tr style=\"text-align: right;\">\n",
       "      <th></th>\n",
       "      <th>ticker</th>\n",
       "      <th>stock_price</th>\n",
       "      <th>market_cap</th>\n",
       "      <th>number_of_shares_to_buy</th>\n",
       "    </tr>\n",
       "  </thead>\n",
       "  <tbody>\n",
       "  </tbody>\n",
       "</table>\n",
       "</div>"
      ],
      "text/plain": [
       "Empty DataFrame\n",
       "Columns: [ticker, stock_price, market_cap, number_of_shares_to_buy]\n",
       "Index: []"
      ]
     },
     "execution_count": 39,
     "metadata": {},
     "output_type": "execute_result"
    }
   ],
   "source": [
    "my_columns = ['ticker', 'stock_price', 'market_cap', 'number_of_shares_to_buy']\n",
    "final_dataframe = pd.DataFrame(columns=my_columns)\n",
    "final_dataframe"
   ]
  },
  {
   "cell_type": "code",
   "execution_count": 41,
   "metadata": {},
   "outputs": [
    {
     "data": {
      "text/html": [
       "<div>\n",
       "<style scoped>\n",
       "    .dataframe tbody tr th:only-of-type {\n",
       "        vertical-align: middle;\n",
       "    }\n",
       "\n",
       "    .dataframe tbody tr th {\n",
       "        vertical-align: top;\n",
       "    }\n",
       "\n",
       "    .dataframe thead th {\n",
       "        text-align: right;\n",
       "    }\n",
       "</style>\n",
       "<table border=\"1\" class=\"dataframe\">\n",
       "  <thead>\n",
       "    <tr style=\"text-align: right;\">\n",
       "      <th></th>\n",
       "      <th>ticker</th>\n",
       "      <th>stock_price</th>\n",
       "      <th>market_cap</th>\n",
       "      <th>number_of_shares_to_buy</th>\n",
       "    </tr>\n",
       "  </thead>\n",
       "  <tbody>\n",
       "    <tr>\n",
       "      <th>0</th>\n",
       "      <td>AAPL</td>\n",
       "      <td>226.339996</td>\n",
       "      <td>3470720237568</td>\n",
       "      <td>N/A</td>\n",
       "    </tr>\n",
       "  </tbody>\n",
       "</table>\n",
       "</div>"
      ],
      "text/plain": [
       "  ticker stock_price     market_cap number_of_shares_to_buy\n",
       "0   AAPL  226.339996  3470720237568                     N/A"
      ]
     },
     "execution_count": 41,
     "metadata": {},
     "output_type": "execute_result"
    }
   ],
   "source": [
    "new_row = pd.Series(\n",
    "    [\n",
    "        'AAPL',\n",
    "        price,\n",
    "        market_cap,\n",
    "        'N/A'\n",
    "    ],\n",
    "    index=my_columns\n",
    ")\n",
    "\n",
    "# Convert the Series to a DataFrame and concatenate it with the existing DataFrame\n",
    "pd.concat([final_dataframe, new_row.to_frame().T], ignore_index=True)"
   ]
  },
  {
   "cell_type": "markdown",
   "metadata": {},
   "source": [
    "## Looping Through The Tickers in Our List of Stocks\n",
    "\n",
    "Using the same logic that we outlined above, we can pull data for all S&P 500 stocks and store their data in the DataFrame using a `for` loop."
   ]
  },
  {
   "cell_type": "code",
   "execution_count": 46,
   "metadata": {},
   "outputs": [
    {
     "name": "stderr",
     "output_type": "stream",
     "text": [
      "ABC: No data found, symbol may be delisted\n",
      "$ABMD: possibly delisted; No price data found  (period=1d)\n"
     ]
    },
    {
     "name": "stdout",
     "output_type": "stream",
     "text": [
      "$ABMD: possibly delisted; No price data found  (period=1d)\n"
     ]
    },
    {
     "name": "stderr",
     "output_type": "stream",
     "text": [
      "ALXN: No data found, symbol may be delisted\n",
      "ANTM: No data found, symbol may be delisted\n",
      "$ATVI: possibly delisted; No price data found  (period=1d)\n",
      "BF.B: Period '1d' is invalid, must be one of ['1mo', '3mo', '6mo', 'ytd', '1y', '2y', '5y', '10y', 'max']\n",
      "BLL: No data found, symbol may be delisted\n",
      "BRK.B: No data found, symbol may be delisted\n",
      "CERN: No data found, symbol may be delisted\n",
      "COG: No data found, symbol may be delisted\n",
      "CTL: No data found, symbol may be delisted\n",
      "CTXS: No data found, symbol may be delisted\n",
      "CXO: No data found, symbol may be delisted\n",
      "DISCA: No data found, symbol may be delisted\n",
      "DISCK: No data found, symbol may be delisted\n",
      "DISH: No data found, symbol may be delisted\n",
      "DRE: No data found, symbol may be delisted\n",
      "ETFC: No data found, symbol may be delisted\n",
      "FB: No data found, symbol may be delisted\n",
      "FBHS: No data found, symbol may be delisted\n",
      "FLIR: No data found, symbol may be delisted\n",
      "FLT: No data found, symbol may be delisted\n",
      "FRC: No data found, symbol may be delisted\n",
      "HFC: No data found, symbol may be delisted\n",
      "INFO: No data found, symbol may be delisted\n",
      "KSU: No data found, symbol may be delisted\n",
      "MXIM: No data found, symbol may be delisted\n",
      "MYL: No data found, symbol may be delisted\n",
      "NBL: No data found, symbol may be delisted\n",
      "NLOK: No data found, symbol may be delisted\n",
      "NLSN: No data found, symbol may be delisted\n",
      "PBCT: No data found, symbol may be delisted\n",
      "PEAK: No data found, symbol may be delisted\n",
      "PKI: No data found, symbol may be delisted\n",
      "PXD: No data found, symbol may be delisted\n",
      "RE: No data found, symbol may be delisted\n",
      "$SIVB: possibly delisted; No price data found  (period=1d)\n"
     ]
    },
    {
     "name": "stdout",
     "output_type": "stream",
     "text": [
      "$SIVB: possibly delisted; No price data found  (period=1d)\n"
     ]
    },
    {
     "name": "stderr",
     "output_type": "stream",
     "text": [
      "TIF: No data found, symbol may be delisted\n",
      "TWTR: No data found, symbol may be delisted\n",
      "VAR: No data found, symbol may be delisted\n",
      "VIAC: No data found, symbol may be delisted\n",
      "WLTW: No data found, symbol may be delisted\n",
      "XLNX: No data found, symbol may be delisted\n"
     ]
    }
   ],
   "source": [
    "final_dataframe = pd.DataFrame(columns=my_columns)\n",
    "for ticker in stocks['Ticker']:\n",
    "    try:\n",
    "        stock = yf.Ticker(ticker)\n",
    "        history = stock.history(period='1d')\n",
    "        \n",
    "        if not history.empty:\n",
    "            price = history['Close'].iloc[0]\n",
    "            market_cap = stock.info['marketCap']\n",
    "        else:\n",
    "            price = None\n",
    "            market_cap = None\n",
    "\n",
    "        new_row = pd.Series(\n",
    "            [\n",
    "                ticker,\n",
    "                price,\n",
    "                market_cap,\n",
    "                'N/A'\n",
    "            ],\n",
    "            index=my_columns\n",
    "        )\n",
    "        \n",
    "        # Append the new row to the DataFrame\n",
    "        final_dataframe = pd.concat([final_dataframe, new_row.to_frame().T], ignore_index=True)\n",
    "    except:\n",
    "        continue"
   ]
  },
  {
   "cell_type": "code",
   "execution_count": 49,
   "metadata": {},
   "outputs": [
    {
     "data": {
      "text/html": [
       "<div>\n",
       "<style scoped>\n",
       "    .dataframe tbody tr th:only-of-type {\n",
       "        vertical-align: middle;\n",
       "    }\n",
       "\n",
       "    .dataframe tbody tr th {\n",
       "        vertical-align: top;\n",
       "    }\n",
       "\n",
       "    .dataframe thead th {\n",
       "        text-align: right;\n",
       "    }\n",
       "</style>\n",
       "<table border=\"1\" class=\"dataframe\">\n",
       "  <thead>\n",
       "    <tr style=\"text-align: right;\">\n",
       "      <th></th>\n",
       "      <th>ticker</th>\n",
       "      <th>stock_price</th>\n",
       "      <th>market_cap</th>\n",
       "      <th>number_of_shares_to_buy</th>\n",
       "    </tr>\n",
       "  </thead>\n",
       "  <tbody>\n",
       "    <tr>\n",
       "      <th>0</th>\n",
       "      <td>A</td>\n",
       "      <td>126.370003</td>\n",
       "      <td>36869836800</td>\n",
       "      <td>N/A</td>\n",
       "    </tr>\n",
       "    <tr>\n",
       "      <th>1</th>\n",
       "      <td>AAL</td>\n",
       "      <td>11.04</td>\n",
       "      <td>7243233280</td>\n",
       "      <td>N/A</td>\n",
       "    </tr>\n",
       "    <tr>\n",
       "      <th>2</th>\n",
       "      <td>AAP</td>\n",
       "      <td>58.720001</td>\n",
       "      <td>3501021440</td>\n",
       "      <td>N/A</td>\n",
       "    </tr>\n",
       "    <tr>\n",
       "      <th>3</th>\n",
       "      <td>AAPL</td>\n",
       "      <td>226.339996</td>\n",
       "      <td>3470720237568</td>\n",
       "      <td>N/A</td>\n",
       "    </tr>\n",
       "    <tr>\n",
       "      <th>4</th>\n",
       "      <td>ABBV</td>\n",
       "      <td>167.25</td>\n",
       "      <td>295341752320</td>\n",
       "      <td>N/A</td>\n",
       "    </tr>\n",
       "    <tr>\n",
       "      <th>...</th>\n",
       "      <td>...</td>\n",
       "      <td>...</td>\n",
       "      <td>...</td>\n",
       "      <td>...</td>\n",
       "    </tr>\n",
       "    <tr>\n",
       "      <th>499</th>\n",
       "      <td>YUM</td>\n",
       "      <td>129.119995</td>\n",
       "      <td>36364320768</td>\n",
       "      <td>N/A</td>\n",
       "    </tr>\n",
       "    <tr>\n",
       "      <th>500</th>\n",
       "      <td>ZBH</td>\n",
       "      <td>108.010002</td>\n",
       "      <td>22220681216</td>\n",
       "      <td>N/A</td>\n",
       "    </tr>\n",
       "    <tr>\n",
       "      <th>501</th>\n",
       "      <td>ZBRA</td>\n",
       "      <td>310.51001</td>\n",
       "      <td>15966238720</td>\n",
       "      <td>N/A</td>\n",
       "    </tr>\n",
       "    <tr>\n",
       "      <th>502</th>\n",
       "      <td>ZION</td>\n",
       "      <td>42.490002</td>\n",
       "      <td>6273861632</td>\n",
       "      <td>N/A</td>\n",
       "    </tr>\n",
       "    <tr>\n",
       "      <th>503</th>\n",
       "      <td>ZTS</td>\n",
       "      <td>174.960007</td>\n",
       "      <td>79833374720</td>\n",
       "      <td>N/A</td>\n",
       "    </tr>\n",
       "  </tbody>\n",
       "</table>\n",
       "<p>504 rows × 4 columns</p>\n",
       "</div>"
      ],
      "text/plain": [
       "    ticker stock_price     market_cap number_of_shares_to_buy\n",
       "0        A  126.370003    36869836800                     N/A\n",
       "1      AAL       11.04     7243233280                     N/A\n",
       "2      AAP   58.720001     3501021440                     N/A\n",
       "3     AAPL  226.339996  3470720237568                     N/A\n",
       "4     ABBV      167.25   295341752320                     N/A\n",
       "..     ...         ...            ...                     ...\n",
       "499    YUM  129.119995    36364320768                     N/A\n",
       "500    ZBH  108.010002    22220681216                     N/A\n",
       "501   ZBRA   310.51001    15966238720                     N/A\n",
       "502   ZION   42.490002     6273861632                     N/A\n",
       "503    ZTS  174.960007    79833374720                     N/A\n",
       "\n",
       "[504 rows x 4 columns]"
      ]
     },
     "execution_count": 49,
     "metadata": {},
     "output_type": "execute_result"
    }
   ],
   "source": [
    "final_dataframe"
   ]
  },
  {
   "cell_type": "markdown",
   "metadata": {},
   "source": [
    "## Using Batch API Calls to Improve Performance\n",
    "\n",
    "Batch API calls are one of the easiest ways to improve the performance of your code.\n",
    "\n",
    "This is because HTTP requests are typically one of the slowest components of a script.\n",
    "\n",
    "Also, API providers will often give you discounted rates for using batch API calls since they are easier for the API provider to respond to.\n",
    "\n",
    "IEX Cloud limits their batch API calls to 100 tickers per request. Still, this reduces the number of API calls we'll make in this section from 500 to 5 - huge improvement! In this section, we'll split our list of stocks into groups of 100 and then make a batch API call for each group."
   ]
  },
  {
   "cell_type": "code",
   "execution_count": 54,
   "metadata": {},
   "outputs": [
    {
     "name": "stderr",
     "output_type": "stream",
     "text": [
      "$ABMD: possibly delisted; No price data found  (period=1d)\n"
     ]
    },
    {
     "name": "stdout",
     "output_type": "stream",
     "text": [
      "$ABMD: possibly delisted; No price data found  (period=1d)\n"
     ]
    },
    {
     "name": "stderr",
     "output_type": "stream",
     "text": [
      "ABC: No data found, symbol may be delisted\n",
      "ALXN: No data found, symbol may be delisted\n",
      "ANTM: No data found, symbol may be delisted\n",
      "ATVI: No data found, symbol may be delisted\n",
      "BF.B: Period '1d' is invalid, must be one of ['1mo', '3mo', '6mo', 'ytd', '1y', '2y', '5y', '10y', 'max']\n",
      "BLL: No data found, symbol may be delisted\n",
      "BRK.B: No data found, symbol may be delisted\n",
      "CERN: No data found, symbol may be delisted\n",
      "COG: No data found, symbol may be delisted\n",
      "CTL: No data found, symbol may be delisted\n",
      "CTXS: No data found, symbol may be delisted\n",
      "CXO: No data found, symbol may be delisted\n",
      "DISCK: No data found, symbol may be delisted\n",
      "DISCA: No data found, symbol may be delisted\n",
      "DISH: No data found, symbol may be delisted\n",
      "DRE: No data found, symbol may be delisted\n",
      "ETFC: No data found, symbol may be delisted\n",
      "FBHS: No data found, symbol may be delisted\n",
      "FB: No data found, symbol may be delisted\n"
     ]
    },
    {
     "name": "stdout",
     "output_type": "stream",
     "text": [
      "Error fetching data for FISV: 'marketCap'\n"
     ]
    },
    {
     "name": "stderr",
     "output_type": "stream",
     "text": [
      "FLT: No data found, symbol may be delisted\n",
      "FLIR: No data found, symbol may be delisted\n",
      "FRC: No data found, symbol may be delisted\n",
      "HFC: No data found, symbol may be delisted\n",
      "INFO: No data found, symbol may be delisted\n",
      "KSU: No data found, symbol may be delisted\n",
      "MXIM: No data found, symbol may be delisted\n",
      "NBL: No data found, symbol may be delisted\n",
      "MYL: No data found, symbol may be delisted\n",
      "NLSN: No data found, symbol may be delisted\n",
      "NLOK: No data found, symbol may be delisted\n",
      "PBCT: No data found, symbol may be delisted\n",
      "PEAK: No data found, symbol may be delisted\n",
      "PKI: No data found, symbol may be delisted\n",
      "PXD: No data found, symbol may be delisted\n",
      "RE: No data found, symbol may be delisted\n",
      "$SIVB: possibly delisted; No price data found  (period=1d)\n"
     ]
    },
    {
     "name": "stdout",
     "output_type": "stream",
     "text": [
      "$SIVB: possibly delisted; No price data found  (period=1d)\n"
     ]
    },
    {
     "name": "stderr",
     "output_type": "stream",
     "text": [
      "TIF: No data found, symbol may be delisted\n",
      "TWTR: No data found, symbol may be delisted\n",
      "VAR: No data found, symbol may be delisted\n",
      "VIAC: No data found, symbol may be delisted\n",
      "WLTW: No data found, symbol may be delisted\n",
      "XLNX: No data found, symbol may be delisted\n"
     ]
    }
   ],
   "source": [
    "final_dataframe = pd.DataFrame(columns=my_columns)\n",
    "def fetch_stock_data(ticker):\n",
    "    try:\n",
    "        stock = yf.Ticker(ticker)\n",
    "        history = stock.history(period='1d')\n",
    "        \n",
    "        if not history.empty:\n",
    "            price = history['Close'].iloc[0]\n",
    "            market_cap = stock.info['marketCap']\n",
    "        else:\n",
    "            price = None\n",
    "            market_cap = None\n",
    "        \n",
    "        return pd.Series(\n",
    "            [\n",
    "                ticker,\n",
    "                price,\n",
    "                market_cap,\n",
    "                'N/A'\n",
    "            ],\n",
    "            index=my_columns\n",
    "        )\n",
    "    except Exception as e:\n",
    "        print(f\"Error fetching data for {ticker}: {e}\")\n",
    "        return pd.Series([ticker, None, None, 'N/A'], index=my_columns)\n",
    "\n",
    "# Using ThreadPoolExecutor to fetch data concurrently\n",
    "with ThreadPoolExecutor(max_workers=5) as executor:\n",
    "    futures = [executor.submit(fetch_stock_data, ticker) for ticker in stocks['Ticker']]\n",
    "    \n",
    "    for future in as_completed(futures):\n",
    "        final_dataframe = pd.concat([final_dataframe, future.result().to_frame().T], ignore_index=True)"
   ]
  },
  {
   "cell_type": "code",
   "execution_count": 68,
   "metadata": {},
   "outputs": [
    {
     "data": {
      "text/html": [
       "<div>\n",
       "<style scoped>\n",
       "    .dataframe tbody tr th:only-of-type {\n",
       "        vertical-align: middle;\n",
       "    }\n",
       "\n",
       "    .dataframe tbody tr th {\n",
       "        vertical-align: top;\n",
       "    }\n",
       "\n",
       "    .dataframe thead th {\n",
       "        text-align: right;\n",
       "    }\n",
       "</style>\n",
       "<table border=\"1\" class=\"dataframe\">\n",
       "  <thead>\n",
       "    <tr style=\"text-align: right;\">\n",
       "      <th></th>\n",
       "      <th>ticker</th>\n",
       "      <th>stock_price</th>\n",
       "      <th>market_cap</th>\n",
       "      <th>number_of_shares_to_buy</th>\n",
       "    </tr>\n",
       "  </thead>\n",
       "  <tbody>\n",
       "    <tr>\n",
       "      <th>0</th>\n",
       "      <td>AAPL</td>\n",
       "      <td>226.339996</td>\n",
       "      <td>3470720237568</td>\n",
       "      <td>N/A</td>\n",
       "    </tr>\n",
       "    <tr>\n",
       "      <th>1</th>\n",
       "      <td>AAL</td>\n",
       "      <td>11.04</td>\n",
       "      <td>7243233280</td>\n",
       "      <td>N/A</td>\n",
       "    </tr>\n",
       "    <tr>\n",
       "      <th>2</th>\n",
       "      <td>AAP</td>\n",
       "      <td>58.720001</td>\n",
       "      <td>3501021440</td>\n",
       "      <td>N/A</td>\n",
       "    </tr>\n",
       "    <tr>\n",
       "      <th>3</th>\n",
       "      <td>A</td>\n",
       "      <td>126.370003</td>\n",
       "      <td>36869836800</td>\n",
       "      <td>N/A</td>\n",
       "    </tr>\n",
       "    <tr>\n",
       "      <th>5</th>\n",
       "      <td>ABBV</td>\n",
       "      <td>167.25</td>\n",
       "      <td>295341752320</td>\n",
       "      <td>N/A</td>\n",
       "    </tr>\n",
       "    <tr>\n",
       "      <th>...</th>\n",
       "      <td>...</td>\n",
       "      <td>...</td>\n",
       "      <td>...</td>\n",
       "      <td>...</td>\n",
       "    </tr>\n",
       "    <tr>\n",
       "      <th>500</th>\n",
       "      <td>YUM</td>\n",
       "      <td>129.119995</td>\n",
       "      <td>36364320768</td>\n",
       "      <td>N/A</td>\n",
       "    </tr>\n",
       "    <tr>\n",
       "      <th>501</th>\n",
       "      <td>ZBH</td>\n",
       "      <td>108.010002</td>\n",
       "      <td>22220681216</td>\n",
       "      <td>N/A</td>\n",
       "    </tr>\n",
       "    <tr>\n",
       "      <th>502</th>\n",
       "      <td>ZBRA</td>\n",
       "      <td>310.51001</td>\n",
       "      <td>15966238720</td>\n",
       "      <td>N/A</td>\n",
       "    </tr>\n",
       "    <tr>\n",
       "      <th>503</th>\n",
       "      <td>ZION</td>\n",
       "      <td>42.490002</td>\n",
       "      <td>6273861632</td>\n",
       "      <td>N/A</td>\n",
       "    </tr>\n",
       "    <tr>\n",
       "      <th>504</th>\n",
       "      <td>ZTS</td>\n",
       "      <td>174.960007</td>\n",
       "      <td>79833374720</td>\n",
       "      <td>N/A</td>\n",
       "    </tr>\n",
       "  </tbody>\n",
       "</table>\n",
       "<p>461 rows × 4 columns</p>\n",
       "</div>"
      ],
      "text/plain": [
       "    ticker stock_price     market_cap number_of_shares_to_buy\n",
       "0     AAPL  226.339996  3470720237568                     N/A\n",
       "1      AAL       11.04     7243233280                     N/A\n",
       "2      AAP   58.720001     3501021440                     N/A\n",
       "3        A  126.370003    36869836800                     N/A\n",
       "5     ABBV      167.25   295341752320                     N/A\n",
       "..     ...         ...            ...                     ...\n",
       "500    YUM  129.119995    36364320768                     N/A\n",
       "501    ZBH  108.010002    22220681216                     N/A\n",
       "502   ZBRA   310.51001    15966238720                     N/A\n",
       "503   ZION   42.490002     6273861632                     N/A\n",
       "504    ZTS  174.960007    79833374720                     N/A\n",
       "\n",
       "[461 rows x 4 columns]"
      ]
     },
     "execution_count": 68,
     "metadata": {},
     "output_type": "execute_result"
    }
   ],
   "source": [
    "final_dataframe[(final_dataframe['stock_price'].notna()) & (final_dataframe['market_cap'].notna())]\n"
   ]
  },
  {
   "cell_type": "markdown",
   "metadata": {},
   "source": [
    "## Calculating the Number of Shares to Buy\n",
    "\n",
    "As you can see in the DataFrame above, we stil haven't calculated the number of shares of each stock to buy.\n",
    "\n",
    "We'll do that next."
   ]
  },
  {
   "cell_type": "code",
   "execution_count": null,
   "metadata": {},
   "outputs": [],
   "source": []
  },
  {
   "cell_type": "code",
   "execution_count": null,
   "metadata": {},
   "outputs": [],
   "source": []
  },
  {
   "cell_type": "markdown",
   "metadata": {},
   "source": [
    "## Formatting Our Excel Output\n",
    "\n",
    "We will be using the XlsxWriter library for Python to create nicely-formatted Excel files.\n",
    "\n",
    "XlsxWriter is an excellent package and offers tons of customization. However, the tradeoff for this is that the library can seem very complicated to new users. Accordingly, this section will be fairly long because I want to do a good job of explaining how XlsxWriter works.\n",
    "\n",
    "### Initializing our XlsxWriter Object"
   ]
  },
  {
   "cell_type": "code",
   "execution_count": null,
   "metadata": {},
   "outputs": [],
   "source": []
  },
  {
   "cell_type": "markdown",
   "metadata": {},
   "source": [
    "### Creating the Formats We'll Need For Our `.xlsx` File\n",
    "\n",
    "Formats include colors, fonts, and also symbols like `%` and `$`. We'll need four main formats for our Excel document:\n",
    "* String format for tickers\n",
    "* \\\\$XX.XX format for stock prices\n",
    "* \\\\$XX,XXX format for market capitalization\n",
    "* Integer format for the number of shares to purchase"
   ]
  },
  {
   "cell_type": "code",
   "execution_count": null,
   "metadata": {},
   "outputs": [],
   "source": []
  },
  {
   "cell_type": "markdown",
   "metadata": {},
   "source": [
    "### Applying the Formats to the Columns of Our `.xlsx` File\n",
    "\n",
    "We can use the `set_column` method applied to the `writer.sheets['Recommended Trades']` object to apply formats to specific columns of our spreadsheets.\n",
    "\n",
    "Here's an example:\n",
    "\n",
    "```python\n",
    "writer.sheets['Recommended Trades'].set_column('B:B', #This tells the method to apply the format to column B\n",
    "                     18, #This tells the method to apply a column width of 18 pixels\n",
    "                     string_template #This applies the format 'string_template' to the column\n",
    "                    )\n",
    "```"
   ]
  },
  {
   "cell_type": "code",
   "execution_count": null,
   "metadata": {},
   "outputs": [],
   "source": []
  },
  {
   "cell_type": "markdown",
   "metadata": {},
   "source": [
    "This code works, but it violates the software principle of \"Don't Repeat Yourself\". \n",
    "\n",
    "Let's simplify this by putting it in 2 loops:"
   ]
  },
  {
   "cell_type": "code",
   "execution_count": null,
   "metadata": {},
   "outputs": [],
   "source": []
  },
  {
   "cell_type": "markdown",
   "metadata": {},
   "source": [
    "## Saving Our Excel Output\n",
    "\n",
    "Saving our Excel file is very easy:"
   ]
  },
  {
   "cell_type": "code",
   "execution_count": null,
   "metadata": {},
   "outputs": [],
   "source": []
  }
 ],
 "metadata": {
  "kernelspec": {
   "display_name": "Python 3",
   "language": "python",
   "name": "python3"
  },
  "language_info": {
   "codemirror_mode": {
    "name": "ipython",
    "version": 3
   },
   "file_extension": ".py",
   "mimetype": "text/x-python",
   "name": "python",
   "nbconvert_exporter": "python",
   "pygments_lexer": "ipython3",
   "version": "3.12.4"
  }
 },
 "nbformat": 4,
 "nbformat_minor": 4
}
